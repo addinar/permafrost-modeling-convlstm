{
  "nbformat": 4,
  "nbformat_minor": 0,
  "metadata": {
    "colab": {
      "provenance": [],
      "toc_visible": true,
      "authorship_tag": "ABX9TyM0/FaWd69KozhX35AcdRax",
      "include_colab_link": true
    },
    "kernelspec": {
      "name": "python3",
      "display_name": "Python 3"
    },
    "language_info": {
      "name": "python"
    }
  },
  "cells": [
    {
      "cell_type": "markdown",
      "metadata": {
        "id": "view-in-github",
        "colab_type": "text"
      },
      "source": [
        "<a href=\"https://colab.research.google.com/github/addinar/permafrost-modeling-convlstm/blob/main/data/notebooks/rcp_preprocessing.ipynb\" target=\"_parent\"><img src=\"https://colab.research.google.com/assets/colab-badge.svg\" alt=\"Open In Colab\"/></a>"
      ]
    },
    {
      "cell_type": "markdown",
      "source": [
        "# **Download Packages and Import Libraries**"
      ],
      "metadata": {
        "id": "gD_vnlCq9qdY"
      }
    },
    {
      "cell_type": "code",
      "source": [
        "!pip install xarray netCDF4"
      ],
      "metadata": {
        "colab": {
          "base_uri": "https://localhost:8080/"
        },
        "id": "AsHEYkSo1sOB",
        "outputId": "34acf18e-ec5b-458a-d55a-1a10ebd2b9e6"
      },
      "execution_count": 12,
      "outputs": [
        {
          "output_type": "stream",
          "name": "stdout",
          "text": [
            "Requirement already satisfied: xarray in /usr/local/lib/python3.11/dist-packages (2025.3.1)\n",
            "Collecting netCDF4\n",
            "  Downloading netCDF4-1.7.2-cp311-cp311-manylinux_2_17_x86_64.manylinux2014_x86_64.whl.metadata (1.8 kB)\n",
            "Requirement already satisfied: numpy>=1.24 in /usr/local/lib/python3.11/dist-packages (from xarray) (2.0.2)\n",
            "Requirement already satisfied: packaging>=23.2 in /usr/local/lib/python3.11/dist-packages (from xarray) (24.2)\n",
            "Requirement already satisfied: pandas>=2.1 in /usr/local/lib/python3.11/dist-packages (from xarray) (2.2.2)\n",
            "Collecting cftime (from netCDF4)\n",
            "  Downloading cftime-1.6.4.post1-cp311-cp311-manylinux_2_17_x86_64.manylinux2014_x86_64.whl.metadata (8.7 kB)\n",
            "Requirement already satisfied: certifi in /usr/local/lib/python3.11/dist-packages (from netCDF4) (2025.4.26)\n",
            "Requirement already satisfied: python-dateutil>=2.8.2 in /usr/local/lib/python3.11/dist-packages (from pandas>=2.1->xarray) (2.9.0.post0)\n",
            "Requirement already satisfied: pytz>=2020.1 in /usr/local/lib/python3.11/dist-packages (from pandas>=2.1->xarray) (2025.2)\n",
            "Requirement already satisfied: tzdata>=2022.7 in /usr/local/lib/python3.11/dist-packages (from pandas>=2.1->xarray) (2025.2)\n",
            "Requirement already satisfied: six>=1.5 in /usr/local/lib/python3.11/dist-packages (from python-dateutil>=2.8.2->pandas>=2.1->xarray) (1.17.0)\n",
            "Downloading netCDF4-1.7.2-cp311-cp311-manylinux_2_17_x86_64.manylinux2014_x86_64.whl (9.3 MB)\n",
            "\u001b[2K   \u001b[90m━━━━━━━━━━━━━━━━━━━━━━━━━━━━━━━━━━━━━━━━\u001b[0m \u001b[32m9.3/9.3 MB\u001b[0m \u001b[31m54.2 MB/s\u001b[0m eta \u001b[36m0:00:00\u001b[0m\n",
            "\u001b[?25hDownloading cftime-1.6.4.post1-cp311-cp311-manylinux_2_17_x86_64.manylinux2014_x86_64.whl (1.4 MB)\n",
            "\u001b[2K   \u001b[90m━━━━━━━━━━━━━━━━━━━━━━━━━━━━━━━━━━━━━━━━\u001b[0m \u001b[32m1.4/1.4 MB\u001b[0m \u001b[31m70.9 MB/s\u001b[0m eta \u001b[36m0:00:00\u001b[0m\n",
            "\u001b[?25hInstalling collected packages: cftime, netCDF4\n",
            "Successfully installed cftime-1.6.4.post1 netCDF4-1.7.2\n"
          ]
        }
      ]
    },
    {
      "cell_type": "code",
      "execution_count": 6,
      "metadata": {
        "id": "UJP0rDqCsk8h"
      },
      "outputs": [],
      "source": [
        "import pandas as pd\n",
        "import numpy as np\n",
        "from sklearn.preprocessing import StandardScaler\n",
        "import os"
      ]
    },
    {
      "cell_type": "code",
      "source": [
        "import xarray as xr"
      ],
      "metadata": {
        "id": "GJQSeWf71w00"
      },
      "execution_count": 13,
      "outputs": []
    },
    {
      "cell_type": "code",
      "source": [
        "from google.colab import drive, userdata\n",
        "drive.mount('/content/drive')"
      ],
      "metadata": {
        "colab": {
          "base_uri": "https://localhost:8080/"
        },
        "id": "NGzpJ4jXtJFw",
        "outputId": "e2b54043-c2f0-4c8f-bad2-2a60bbc21f5b"
      },
      "execution_count": 5,
      "outputs": [
        {
          "output_type": "stream",
          "name": "stdout",
          "text": [
            "Mounted at /content/drive\n"
          ]
        }
      ]
    },
    {
      "cell_type": "code",
      "source": [
        "rcp_path = userdata.get('rcp_output_path')\n",
        "rcp26_path = os.path.join(rcp_path, 'RCP26_df.csv')\n",
        "rcp45_path = os.path.join(rcp_path, 'RCP45_df.csv')\n",
        "rcp60_path = os.path.join(rcp_path, 'RCP60_df.csv')\n",
        "rcp85_path = os.path.join(rcp_path, 'RCP85_df.csv')"
      ],
      "metadata": {
        "id": "Nq493wwetbRd"
      },
      "execution_count": 192,
      "outputs": []
    },
    {
      "cell_type": "code",
      "source": [
        "rcp26_df = pd.read_csv(rcp26_path)\n",
        "rcp45_df = pd.read_csv(rcp45_path)\n",
        "rcp60_df = pd.read_csv(rcp60_path)\n",
        "rcp85_df = pd.read_csv(rcp85_path)"
      ],
      "metadata": {
        "id": "Bv7t79RzurcM"
      },
      "execution_count": 193,
      "outputs": []
    },
    {
      "cell_type": "code",
      "source": [
        "dfs = [rcp26_df, rcp45_df, rcp60_df, rcp85_df]"
      ],
      "metadata": {
        "id": "bLIYLjtPu2nU"
      },
      "execution_count": 194,
      "outputs": []
    },
    {
      "cell_type": "code",
      "source": [
        "# first inspect column names for all\n",
        "for df in dfs:\n",
        "  print(df.columns)"
      ],
      "metadata": {
        "colab": {
          "base_uri": "https://localhost:8080/"
        },
        "id": "9hzGZl3ZvHYl",
        "outputId": "1de1c75c-93cc-46df-b5f8-382f1d867b37"
      },
      "execution_count": 171,
      "outputs": [
        {
          "output_type": "stream",
          "name": "stdout",
          "text": [
            "Index(['Unnamed: 0', 'time', 'snow_depth', 'band', 'skin_temperature',\n",
            "       'temperature_2m', 'snowfall_sum',\n",
            "       'surface_thermal_radiation_downwards_sum',\n",
            "       'avg_volumetric_water_content', 'average_lake_temperature',\n",
            "       'total_precipitation_sum', 'surface_latent_heat_flux_sum',\n",
            "       'surface_sensible_heat_flux_sum', 'surface_snow_amount',\n",
            "       'surface_solar_radiation_downwards_sum'],\n",
            "      dtype='object')\n",
            "Index(['Unnamed: 0', 'time', 'surface_solar_radiation_downwards_sum', 'band',\n",
            "       'surface_thermal_radiation_downwards_sum', 'total_precipitation_sum',\n",
            "       'surface_sensible_heat_flux_sum', 'snowfall_sum', 'surface_snow_amount',\n",
            "       'skin_temperature', 'temperature_2m', 'surface_latent_heat_flux_sum',\n",
            "       'snow_depth', 'average_lake_temperature',\n",
            "       'avg_volumetric_water_content'],\n",
            "      dtype='object')\n",
            "Index(['Unnamed: 0', 'time', 'surface_latent_heat_flux_sum', 'band',\n",
            "       'surface_solar_radiation_downwards_sum', 'avg_volumetric_water_content',\n",
            "       'average_lake_temperature', 'temperature_2m', 'snow_depth',\n",
            "       'surface_thermal_radiation_downwards_sum', 'total_precipitation_sum',\n",
            "       'skin_temperature', 'snowfall_sum', 'surface_snow_amount',\n",
            "       'surface_sensible_heat_flux_sum'],\n",
            "      dtype='object')\n",
            "Index(['Unnamed: 0', 'time', 'surface_sensible_heat_flux_sum', 'band',\n",
            "       'snowfall_sum', 'surface_thermal_radiation_downwards_sum',\n",
            "       'surface_solar_radiation_downwards_sum', 'total_precipitation_sum',\n",
            "       'surface_latent_heat_flux_sum', 'snow_depth', 'skin_temperature',\n",
            "       'surface_snow_amount', 'avg_volumetric_water_content',\n",
            "       'average_lake_temperature', 'temperature_2m'],\n",
            "      dtype='object')\n"
          ]
        }
      ]
    },
    {
      "cell_type": "markdown",
      "source": [
        "# **Derive Additional Features**"
      ],
      "metadata": {
        "id": "ZslOdTp8SMUh"
      }
    },
    {
      "cell_type": "markdown",
      "source": [
        "## **Snow Cover & Snow Density**"
      ],
      "metadata": {
        "id": "m-M4OoOy9iy9"
      }
    },
    {
      "cell_type": "code",
      "source": [
        "rcp26_df.columns"
      ],
      "metadata": {
        "colab": {
          "base_uri": "https://localhost:8080/"
        },
        "id": "ch82VIlS9o7M",
        "outputId": "9411d738-458e-4c77-a193-96b9c06c1620"
      },
      "execution_count": 172,
      "outputs": [
        {
          "output_type": "execute_result",
          "data": {
            "text/plain": [
              "Index(['Unnamed: 0', 'time', 'snow_depth', 'band', 'skin_temperature',\n",
              "       'temperature_2m', 'snowfall_sum',\n",
              "       'surface_thermal_radiation_downwards_sum',\n",
              "       'avg_volumetric_water_content', 'average_lake_temperature',\n",
              "       'total_precipitation_sum', 'surface_latent_heat_flux_sum',\n",
              "       'surface_sensible_heat_flux_sum', 'surface_snow_amount',\n",
              "       'surface_solar_radiation_downwards_sum'],\n",
              "      dtype='object')"
            ]
          },
          "metadata": {},
          "execution_count": 172
        }
      ]
    },
    {
      "cell_type": "markdown",
      "source": [
        "snow_cover = min(1, $\\frac{1000 \\times SD}{15}$)\n",
        "\n",
        "where SD = snow density\n",
        "\n",
        "snow density = $\\frac{snw}{snd}$\n",
        "\n",
        "source for this equation can be found [here](https://confluence.ecmwf.int/display/CKB/ERA-Interim%3A+documentation).\n",
        "\n"
      ],
      "metadata": {
        "id": "Uywm41-0EzSl"
      }
    },
    {
      "cell_type": "code",
      "source": [
        "dfs = [rcp26_df, rcp45_df, rcp60_df, rcp85_df]"
      ],
      "metadata": {
        "id": "CzlU2gClEZGx"
      },
      "execution_count": 174,
      "outputs": []
    },
    {
      "cell_type": "code",
      "source": [
        "MIN_SNOW_DEPTH = 0.01  # 1 cm\n",
        "MIN_SNOW_AMOUNT = 0.1  # 0.1 kg/m²\n",
        "\n",
        "for df in dfs:\n",
        "    df['surface_snow_amount'] = df['surface_snow_amount'].apply(lambda x: x if x >= MIN_SNOW_AMOUNT else float('nan'))\n",
        "    df['snow_depth'] = df['snow_depth'].apply(lambda x: x if x >= MIN_SNOW_DEPTH else float('nan'))\n",
        "\n",
        "    df['snow_density'] = df['surface_snow_amount'] / df['snow_depth']\n",
        "\n",
        "    df['snow_cover'] = df['snow_density'].apply(lambda x: min(1, (1000 * x) / 15) if not pd.isna(x) else float('nan'))"
      ],
      "metadata": {
        "id": "Z8E-MlLvESS-"
      },
      "execution_count": 196,
      "outputs": []
    },
    {
      "cell_type": "markdown",
      "source": [
        "## **Snow Albedo**"
      ],
      "metadata": {
        "id": "HIlPdWfhz6Ym"
      }
    },
    {
      "cell_type": "markdown",
      "source": [
        "Snow albedo formula:\n",
        "$$\n",
        "Albedo \\approx \\frac{rsus}{rsds}\n",
        "$$"
      ],
      "metadata": {
        "id": "KZysmyUxz8nY"
      }
    },
    {
      "cell_type": "code",
      "source": [
        "# first we need to get rsus (surface shortwave upwelling radiation) and process into a dataframe\n",
        "rcp_path = userdata.get('RCP_folder')\n",
        "rcp26_rsus = os.path.join(rcp_path, 'RCP26_rsus')\n",
        "rcp45_rsus = os.path.join(rcp_path, 'RCP45_rsus')\n",
        "rcp60_rsus = os.path.join(rcp_path, 'RCP60_rsus')\n",
        "rcp85_rsus = os.path.join(rcp_path, 'RCP85_rsus')"
      ],
      "metadata": {
        "id": "IlYsOZQ2z8LK"
      },
      "execution_count": 202,
      "outputs": []
    },
    {
      "cell_type": "code",
      "source": [
        "latitudes = {\n",
        "    '0': [59.66292135, 61.68539326], # band 1: [min_lat, max_lat]\n",
        "    '1': [61.68539326, 63.70786517], # band 2\n",
        "    '2': [63.70786517, 65.73033708], # band 3\n",
        "    '3': [65.73033708, 67.75280899], # band 4\n",
        "    '4': [67.75280899, 69.7752809], # band 5\n",
        "    '5': [69.7752809, 71.79775281] # band 6\n",
        "}"
      ],
      "metadata": {
        "id": "CizxhToA2FES"
      },
      "execution_count": 203,
      "outputs": []
    },
    {
      "cell_type": "code",
      "source": [
        "# inspect one\n",
        "os.listdir(rcp26_rsus)"
      ],
      "metadata": {
        "colab": {
          "base_uri": "https://localhost:8080/"
        },
        "id": "hiPxAuok2U1k",
        "outputId": "81c97b6e-80a4-46ab-9418-a972ae09161b"
      },
      "execution_count": 204,
      "outputs": [
        {
          "output_type": "execute_result",
          "data": {
            "text/plain": [
              "['rsus_Amon_GFDL-ESM2M_rcp26_r1i1p1_206601-207012.nc',\n",
              " 'rsus_Amon_GFDL-ESM2M_rcp26_r1i1p1_206101-206512.nc',\n",
              " 'rsus_Amon_GFDL-ESM2M_rcp26_r1i1p1_209101-209512.nc',\n",
              " 'rsus_Amon_GFDL-ESM2M_rcp26_r1i1p1_208101-208512.nc',\n",
              " 'rsus_Amon_GFDL-ESM2M_rcp26_r1i1p1_208601-209012.nc',\n",
              " 'rsus_Amon_GFDL-ESM2M_rcp26_r1i1p1_207101-207512.nc',\n",
              " 'rsus_Amon_GFDL-ESM2M_rcp26_r1i1p1_209601-210012.nc',\n",
              " 'rsus_Amon_GFDL-ESM2M_rcp26_r1i1p1_205601-206012.nc',\n",
              " 'rsus_Amon_GFDL-ESM2M_rcp26_r1i1p1_207601-208012.nc',\n",
              " 'rsus_Amon_GFDL-ESM2M_rcp26_r1i1p1_203101-203512.nc',\n",
              " 'rsus_Amon_GFDL-ESM2M_rcp26_r1i1p1_205101-205512.nc',\n",
              " 'rsus_Amon_GFDL-ESM2M_rcp26_r1i1p1_203601-204012.nc',\n",
              " 'rsus_Amon_GFDL-ESM2M_rcp26_r1i1p1_204601-205012.nc',\n",
              " 'rsus_Amon_GFDL-ESM2M_rcp26_r1i1p1_204101-204512.nc',\n",
              " 'rsus_Amon_GFDL-ESM2M_rcp26_r1i1p1_202101-202512.nc',\n",
              " 'rsus_Amon_GFDL-ESM2M_rcp26_r1i1p1_202601-203012.nc']"
            ]
          },
          "metadata": {},
          "execution_count": 204
        }
      ]
    },
    {
      "cell_type": "code",
      "source": [
        "def create_df(file_name, rcp_folder):\n",
        "  full_path = os.path.join(rcp_folder, file_name)\n",
        "  data = xr.open_dataset(full_path)\n",
        "  data = data.assign_coords(\n",
        "    lon=(((data.lon + 180) % 360) - 180)\n",
        "  )\n",
        "  file_dfs = []\n",
        "  for i in range(6):\n",
        "    lats = latitudes[str(i)]\n",
        "    min_lat = lats[0]\n",
        "    max_lat = lats[1]\n",
        "    try:\n",
        "      region = data.sel(\n",
        "        lat=slice(min_lat, max_lat),\n",
        "        lon=slice(-168.75, -143.75)\n",
        "      )\n",
        "    except:\n",
        "      region = data.sel(\n",
        "        rlat=slice(min_lat, max_lat),\n",
        "        rlon=slice(-168.75, -143.75)\n",
        "      )\n",
        "    df = region['rsus'].to_dataframe().reset_index()\n",
        "    df = pd.DataFrame(df.groupby('time')['rsus'].max()).reset_index()\n",
        "    df['band'] = f'band_{i+1}'\n",
        "    file_dfs.append(df)\n",
        "  file_df = pd.concat(file_dfs, axis=0).reset_index()\n",
        "  return file_df"
      ],
      "metadata": {
        "id": "LOHc532q1_Fw"
      },
      "execution_count": 205,
      "outputs": []
    },
    {
      "cell_type": "code",
      "source": [
        "rcp26_rsus_data = []\n",
        "rcp45_rsus_data = []\n",
        "rcp60_rsus_data = []\n",
        "rcp85_rsus_data = []"
      ],
      "metadata": {
        "id": "e60pZpBy2frY"
      },
      "execution_count": 206,
      "outputs": []
    },
    {
      "cell_type": "code",
      "source": [
        "for file in os.listdir(rcp26_rsus):\n",
        "  file_df = create_df(file, rcp26_rsus)\n",
        "  rcp26_rsus_data.append(file_df)\n",
        "\n",
        "rcp_26_rsus_df = pd.concat(rcp26_rsus_data, axis=0).reset_index(drop=True)"
      ],
      "metadata": {
        "colab": {
          "base_uri": "https://localhost:8080/"
        },
        "id": "gCyLMX9Y2nJ-",
        "outputId": "a94f638b-1bbc-40de-9ead-53ca50c99773"
      },
      "execution_count": 207,
      "outputs": [
        {
          "output_type": "stream",
          "name": "stderr",
          "text": [
            "<ipython-input-205-f3db4d95da15>:3: FutureWarning: In a future version of xarray decode_timedelta will default to False rather than None. To silence this warning, set decode_timedelta to True, False, or a 'CFTimedeltaCoder' instance.\n",
            "  data = xr.open_dataset(full_path)\n",
            "<ipython-input-205-f3db4d95da15>:3: FutureWarning: In a future version of xarray decode_timedelta will default to False rather than None. To silence this warning, set decode_timedelta to True, False, or a 'CFTimedeltaCoder' instance.\n",
            "  data = xr.open_dataset(full_path)\n",
            "<ipython-input-205-f3db4d95da15>:3: FutureWarning: In a future version of xarray decode_timedelta will default to False rather than None. To silence this warning, set decode_timedelta to True, False, or a 'CFTimedeltaCoder' instance.\n",
            "  data = xr.open_dataset(full_path)\n",
            "<ipython-input-205-f3db4d95da15>:3: FutureWarning: In a future version of xarray decode_timedelta will default to False rather than None. To silence this warning, set decode_timedelta to True, False, or a 'CFTimedeltaCoder' instance.\n",
            "  data = xr.open_dataset(full_path)\n",
            "<ipython-input-205-f3db4d95da15>:3: FutureWarning: In a future version of xarray decode_timedelta will default to False rather than None. To silence this warning, set decode_timedelta to True, False, or a 'CFTimedeltaCoder' instance.\n",
            "  data = xr.open_dataset(full_path)\n",
            "<ipython-input-205-f3db4d95da15>:3: FutureWarning: In a future version of xarray decode_timedelta will default to False rather than None. To silence this warning, set decode_timedelta to True, False, or a 'CFTimedeltaCoder' instance.\n",
            "  data = xr.open_dataset(full_path)\n",
            "<ipython-input-205-f3db4d95da15>:3: FutureWarning: In a future version of xarray decode_timedelta will default to False rather than None. To silence this warning, set decode_timedelta to True, False, or a 'CFTimedeltaCoder' instance.\n",
            "  data = xr.open_dataset(full_path)\n",
            "<ipython-input-205-f3db4d95da15>:3: FutureWarning: In a future version of xarray decode_timedelta will default to False rather than None. To silence this warning, set decode_timedelta to True, False, or a 'CFTimedeltaCoder' instance.\n",
            "  data = xr.open_dataset(full_path)\n",
            "<ipython-input-205-f3db4d95da15>:3: FutureWarning: In a future version of xarray decode_timedelta will default to False rather than None. To silence this warning, set decode_timedelta to True, False, or a 'CFTimedeltaCoder' instance.\n",
            "  data = xr.open_dataset(full_path)\n",
            "<ipython-input-205-f3db4d95da15>:3: FutureWarning: In a future version of xarray decode_timedelta will default to False rather than None. To silence this warning, set decode_timedelta to True, False, or a 'CFTimedeltaCoder' instance.\n",
            "  data = xr.open_dataset(full_path)\n",
            "<ipython-input-205-f3db4d95da15>:3: FutureWarning: In a future version of xarray decode_timedelta will default to False rather than None. To silence this warning, set decode_timedelta to True, False, or a 'CFTimedeltaCoder' instance.\n",
            "  data = xr.open_dataset(full_path)\n",
            "<ipython-input-205-f3db4d95da15>:3: FutureWarning: In a future version of xarray decode_timedelta will default to False rather than None. To silence this warning, set decode_timedelta to True, False, or a 'CFTimedeltaCoder' instance.\n",
            "  data = xr.open_dataset(full_path)\n",
            "<ipython-input-205-f3db4d95da15>:3: FutureWarning: In a future version of xarray decode_timedelta will default to False rather than None. To silence this warning, set decode_timedelta to True, False, or a 'CFTimedeltaCoder' instance.\n",
            "  data = xr.open_dataset(full_path)\n",
            "<ipython-input-205-f3db4d95da15>:3: FutureWarning: In a future version of xarray decode_timedelta will default to False rather than None. To silence this warning, set decode_timedelta to True, False, or a 'CFTimedeltaCoder' instance.\n",
            "  data = xr.open_dataset(full_path)\n",
            "<ipython-input-205-f3db4d95da15>:3: FutureWarning: In a future version of xarray decode_timedelta will default to False rather than None. To silence this warning, set decode_timedelta to True, False, or a 'CFTimedeltaCoder' instance.\n",
            "  data = xr.open_dataset(full_path)\n",
            "<ipython-input-205-f3db4d95da15>:3: FutureWarning: In a future version of xarray decode_timedelta will default to False rather than None. To silence this warning, set decode_timedelta to True, False, or a 'CFTimedeltaCoder' instance.\n",
            "  data = xr.open_dataset(full_path)\n"
          ]
        }
      ]
    },
    {
      "cell_type": "code",
      "source": [
        "rcp_26_rsus_df.shape"
      ],
      "metadata": {
        "colab": {
          "base_uri": "https://localhost:8080/"
        },
        "id": "Dpaks2mC3h50",
        "outputId": "f6f627e5-47f1-4712-a9bb-cc06ce212772"
      },
      "execution_count": 208,
      "outputs": [
        {
          "output_type": "execute_result",
          "data": {
            "text/plain": [
              "(5760, 4)"
            ]
          },
          "metadata": {},
          "execution_count": 208
        }
      ]
    },
    {
      "cell_type": "code",
      "source": [
        "for file in os.listdir(rcp45_rsus):\n",
        "  file_df = create_df(file, rcp45_rsus)\n",
        "  rcp45_rsus_data.append(file_df)\n",
        "\n",
        "rcp_45_rsus_df = pd.concat(rcp45_rsus_data, axis=0).reset_index(drop=True)"
      ],
      "metadata": {
        "colab": {
          "base_uri": "https://localhost:8080/"
        },
        "id": "0_sktRmX3tnX",
        "outputId": "4dfd6f7e-9b1f-4368-c43b-4524a4d5741b"
      },
      "execution_count": 209,
      "outputs": [
        {
          "output_type": "stream",
          "name": "stderr",
          "text": [
            "<ipython-input-205-f3db4d95da15>:3: FutureWarning: In a future version of xarray decode_timedelta will default to False rather than None. To silence this warning, set decode_timedelta to True, False, or a 'CFTimedeltaCoder' instance.\n",
            "  data = xr.open_dataset(full_path)\n",
            "<ipython-input-205-f3db4d95da15>:3: FutureWarning: In a future version of xarray decode_timedelta will default to False rather than None. To silence this warning, set decode_timedelta to True, False, or a 'CFTimedeltaCoder' instance.\n",
            "  data = xr.open_dataset(full_path)\n",
            "<ipython-input-205-f3db4d95da15>:3: FutureWarning: In a future version of xarray decode_timedelta will default to False rather than None. To silence this warning, set decode_timedelta to True, False, or a 'CFTimedeltaCoder' instance.\n",
            "  data = xr.open_dataset(full_path)\n",
            "<ipython-input-205-f3db4d95da15>:3: FutureWarning: In a future version of xarray decode_timedelta will default to False rather than None. To silence this warning, set decode_timedelta to True, False, or a 'CFTimedeltaCoder' instance.\n",
            "  data = xr.open_dataset(full_path)\n",
            "<ipython-input-205-f3db4d95da15>:3: FutureWarning: In a future version of xarray decode_timedelta will default to False rather than None. To silence this warning, set decode_timedelta to True, False, or a 'CFTimedeltaCoder' instance.\n",
            "  data = xr.open_dataset(full_path)\n",
            "<ipython-input-205-f3db4d95da15>:3: FutureWarning: In a future version of xarray decode_timedelta will default to False rather than None. To silence this warning, set decode_timedelta to True, False, or a 'CFTimedeltaCoder' instance.\n",
            "  data = xr.open_dataset(full_path)\n",
            "<ipython-input-205-f3db4d95da15>:3: FutureWarning: In a future version of xarray decode_timedelta will default to False rather than None. To silence this warning, set decode_timedelta to True, False, or a 'CFTimedeltaCoder' instance.\n",
            "  data = xr.open_dataset(full_path)\n",
            "<ipython-input-205-f3db4d95da15>:3: FutureWarning: In a future version of xarray decode_timedelta will default to False rather than None. To silence this warning, set decode_timedelta to True, False, or a 'CFTimedeltaCoder' instance.\n",
            "  data = xr.open_dataset(full_path)\n",
            "<ipython-input-205-f3db4d95da15>:3: FutureWarning: In a future version of xarray decode_timedelta will default to False rather than None. To silence this warning, set decode_timedelta to True, False, or a 'CFTimedeltaCoder' instance.\n",
            "  data = xr.open_dataset(full_path)\n",
            "<ipython-input-205-f3db4d95da15>:3: FutureWarning: In a future version of xarray decode_timedelta will default to False rather than None. To silence this warning, set decode_timedelta to True, False, or a 'CFTimedeltaCoder' instance.\n",
            "  data = xr.open_dataset(full_path)\n",
            "<ipython-input-205-f3db4d95da15>:3: FutureWarning: In a future version of xarray decode_timedelta will default to False rather than None. To silence this warning, set decode_timedelta to True, False, or a 'CFTimedeltaCoder' instance.\n",
            "  data = xr.open_dataset(full_path)\n",
            "<ipython-input-205-f3db4d95da15>:3: FutureWarning: In a future version of xarray decode_timedelta will default to False rather than None. To silence this warning, set decode_timedelta to True, False, or a 'CFTimedeltaCoder' instance.\n",
            "  data = xr.open_dataset(full_path)\n",
            "<ipython-input-205-f3db4d95da15>:3: FutureWarning: In a future version of xarray decode_timedelta will default to False rather than None. To silence this warning, set decode_timedelta to True, False, or a 'CFTimedeltaCoder' instance.\n",
            "  data = xr.open_dataset(full_path)\n",
            "<ipython-input-205-f3db4d95da15>:3: FutureWarning: In a future version of xarray decode_timedelta will default to False rather than None. To silence this warning, set decode_timedelta to True, False, or a 'CFTimedeltaCoder' instance.\n",
            "  data = xr.open_dataset(full_path)\n",
            "<ipython-input-205-f3db4d95da15>:3: FutureWarning: In a future version of xarray decode_timedelta will default to False rather than None. To silence this warning, set decode_timedelta to True, False, or a 'CFTimedeltaCoder' instance.\n",
            "  data = xr.open_dataset(full_path)\n",
            "<ipython-input-205-f3db4d95da15>:3: FutureWarning: In a future version of xarray decode_timedelta will default to False rather than None. To silence this warning, set decode_timedelta to True, False, or a 'CFTimedeltaCoder' instance.\n",
            "  data = xr.open_dataset(full_path)\n"
          ]
        }
      ]
    },
    {
      "cell_type": "code",
      "source": [
        "rcp_45_rsus_df.shape"
      ],
      "metadata": {
        "colab": {
          "base_uri": "https://localhost:8080/"
        },
        "id": "zWaVU36Q4lfe",
        "outputId": "2906b7cd-b092-46da-8255-3334ead2b167"
      },
      "execution_count": 210,
      "outputs": [
        {
          "output_type": "execute_result",
          "data": {
            "text/plain": [
              "(5760, 4)"
            ]
          },
          "metadata": {},
          "execution_count": 210
        }
      ]
    },
    {
      "cell_type": "code",
      "source": [
        "for file in os.listdir(rcp60_rsus):\n",
        "  file_df = create_df(file, rcp60_rsus)\n",
        "  rcp60_rsus_data.append(file_df)\n",
        "\n",
        "rcp_60_rsus_df = pd.concat(rcp60_rsus_data, axis=0).reset_index(drop=True)"
      ],
      "metadata": {
        "colab": {
          "base_uri": "https://localhost:8080/"
        },
        "id": "WfRG-S703xL4",
        "outputId": "0cf1a592-755a-4a0b-907c-daf404178753"
      },
      "execution_count": 211,
      "outputs": [
        {
          "output_type": "stream",
          "name": "stderr",
          "text": [
            "<ipython-input-205-f3db4d95da15>:3: FutureWarning: In a future version of xarray decode_timedelta will default to False rather than None. To silence this warning, set decode_timedelta to True, False, or a 'CFTimedeltaCoder' instance.\n",
            "  data = xr.open_dataset(full_path)\n",
            "<ipython-input-205-f3db4d95da15>:3: FutureWarning: In a future version of xarray decode_timedelta will default to False rather than None. To silence this warning, set decode_timedelta to True, False, or a 'CFTimedeltaCoder' instance.\n",
            "  data = xr.open_dataset(full_path)\n",
            "<ipython-input-205-f3db4d95da15>:3: FutureWarning: In a future version of xarray decode_timedelta will default to False rather than None. To silence this warning, set decode_timedelta to True, False, or a 'CFTimedeltaCoder' instance.\n",
            "  data = xr.open_dataset(full_path)\n",
            "<ipython-input-205-f3db4d95da15>:3: FutureWarning: In a future version of xarray decode_timedelta will default to False rather than None. To silence this warning, set decode_timedelta to True, False, or a 'CFTimedeltaCoder' instance.\n",
            "  data = xr.open_dataset(full_path)\n",
            "<ipython-input-205-f3db4d95da15>:3: FutureWarning: In a future version of xarray decode_timedelta will default to False rather than None. To silence this warning, set decode_timedelta to True, False, or a 'CFTimedeltaCoder' instance.\n",
            "  data = xr.open_dataset(full_path)\n",
            "<ipython-input-205-f3db4d95da15>:3: FutureWarning: In a future version of xarray decode_timedelta will default to False rather than None. To silence this warning, set decode_timedelta to True, False, or a 'CFTimedeltaCoder' instance.\n",
            "  data = xr.open_dataset(full_path)\n",
            "<ipython-input-205-f3db4d95da15>:3: FutureWarning: In a future version of xarray decode_timedelta will default to False rather than None. To silence this warning, set decode_timedelta to True, False, or a 'CFTimedeltaCoder' instance.\n",
            "  data = xr.open_dataset(full_path)\n",
            "<ipython-input-205-f3db4d95da15>:3: FutureWarning: In a future version of xarray decode_timedelta will default to False rather than None. To silence this warning, set decode_timedelta to True, False, or a 'CFTimedeltaCoder' instance.\n",
            "  data = xr.open_dataset(full_path)\n",
            "<ipython-input-205-f3db4d95da15>:3: FutureWarning: In a future version of xarray decode_timedelta will default to False rather than None. To silence this warning, set decode_timedelta to True, False, or a 'CFTimedeltaCoder' instance.\n",
            "  data = xr.open_dataset(full_path)\n",
            "<ipython-input-205-f3db4d95da15>:3: FutureWarning: In a future version of xarray decode_timedelta will default to False rather than None. To silence this warning, set decode_timedelta to True, False, or a 'CFTimedeltaCoder' instance.\n",
            "  data = xr.open_dataset(full_path)\n",
            "<ipython-input-205-f3db4d95da15>:3: FutureWarning: In a future version of xarray decode_timedelta will default to False rather than None. To silence this warning, set decode_timedelta to True, False, or a 'CFTimedeltaCoder' instance.\n",
            "  data = xr.open_dataset(full_path)\n",
            "<ipython-input-205-f3db4d95da15>:3: FutureWarning: In a future version of xarray decode_timedelta will default to False rather than None. To silence this warning, set decode_timedelta to True, False, or a 'CFTimedeltaCoder' instance.\n",
            "  data = xr.open_dataset(full_path)\n",
            "<ipython-input-205-f3db4d95da15>:3: FutureWarning: In a future version of xarray decode_timedelta will default to False rather than None. To silence this warning, set decode_timedelta to True, False, or a 'CFTimedeltaCoder' instance.\n",
            "  data = xr.open_dataset(full_path)\n",
            "<ipython-input-205-f3db4d95da15>:3: FutureWarning: In a future version of xarray decode_timedelta will default to False rather than None. To silence this warning, set decode_timedelta to True, False, or a 'CFTimedeltaCoder' instance.\n",
            "  data = xr.open_dataset(full_path)\n",
            "<ipython-input-205-f3db4d95da15>:3: FutureWarning: In a future version of xarray decode_timedelta will default to False rather than None. To silence this warning, set decode_timedelta to True, False, or a 'CFTimedeltaCoder' instance.\n",
            "  data = xr.open_dataset(full_path)\n",
            "<ipython-input-205-f3db4d95da15>:3: FutureWarning: In a future version of xarray decode_timedelta will default to False rather than None. To silence this warning, set decode_timedelta to True, False, or a 'CFTimedeltaCoder' instance.\n",
            "  data = xr.open_dataset(full_path)\n"
          ]
        }
      ]
    },
    {
      "cell_type": "code",
      "source": [
        "rcp_60_rsus_df.shape"
      ],
      "metadata": {
        "colab": {
          "base_uri": "https://localhost:8080/"
        },
        "id": "cTo4p2tU4oVB",
        "outputId": "f9e3f7cf-724e-4c03-a622-755d3529bb28"
      },
      "execution_count": 212,
      "outputs": [
        {
          "output_type": "execute_result",
          "data": {
            "text/plain": [
              "(5760, 4)"
            ]
          },
          "metadata": {},
          "execution_count": 212
        }
      ]
    },
    {
      "cell_type": "code",
      "source": [
        "for file in os.listdir(rcp85_rsus):\n",
        "  file_df = create_df(file, rcp85_rsus)\n",
        "  rcp85_rsus_data.append(file_df)\n",
        "\n",
        "rcp_85_rsus_df = pd.concat(rcp85_rsus_data, axis=0).reset_index(drop=True)"
      ],
      "metadata": {
        "colab": {
          "base_uri": "https://localhost:8080/"
        },
        "id": "EC7HcXoL373V",
        "outputId": "99a509f3-ff40-4d66-f1bf-8574f27ebb5a"
      },
      "execution_count": 213,
      "outputs": [
        {
          "output_type": "stream",
          "name": "stderr",
          "text": [
            "<ipython-input-205-f3db4d95da15>:3: FutureWarning: In a future version of xarray decode_timedelta will default to False rather than None. To silence this warning, set decode_timedelta to True, False, or a 'CFTimedeltaCoder' instance.\n",
            "  data = xr.open_dataset(full_path)\n",
            "<ipython-input-205-f3db4d95da15>:3: FutureWarning: In a future version of xarray decode_timedelta will default to False rather than None. To silence this warning, set decode_timedelta to True, False, or a 'CFTimedeltaCoder' instance.\n",
            "  data = xr.open_dataset(full_path)\n",
            "<ipython-input-205-f3db4d95da15>:3: FutureWarning: In a future version of xarray decode_timedelta will default to False rather than None. To silence this warning, set decode_timedelta to True, False, or a 'CFTimedeltaCoder' instance.\n",
            "  data = xr.open_dataset(full_path)\n",
            "<ipython-input-205-f3db4d95da15>:3: FutureWarning: In a future version of xarray decode_timedelta will default to False rather than None. To silence this warning, set decode_timedelta to True, False, or a 'CFTimedeltaCoder' instance.\n",
            "  data = xr.open_dataset(full_path)\n",
            "<ipython-input-205-f3db4d95da15>:3: FutureWarning: In a future version of xarray decode_timedelta will default to False rather than None. To silence this warning, set decode_timedelta to True, False, or a 'CFTimedeltaCoder' instance.\n",
            "  data = xr.open_dataset(full_path)\n",
            "<ipython-input-205-f3db4d95da15>:3: FutureWarning: In a future version of xarray decode_timedelta will default to False rather than None. To silence this warning, set decode_timedelta to True, False, or a 'CFTimedeltaCoder' instance.\n",
            "  data = xr.open_dataset(full_path)\n",
            "<ipython-input-205-f3db4d95da15>:3: FutureWarning: In a future version of xarray decode_timedelta will default to False rather than None. To silence this warning, set decode_timedelta to True, False, or a 'CFTimedeltaCoder' instance.\n",
            "  data = xr.open_dataset(full_path)\n",
            "<ipython-input-205-f3db4d95da15>:3: FutureWarning: In a future version of xarray decode_timedelta will default to False rather than None. To silence this warning, set decode_timedelta to True, False, or a 'CFTimedeltaCoder' instance.\n",
            "  data = xr.open_dataset(full_path)\n",
            "<ipython-input-205-f3db4d95da15>:3: FutureWarning: In a future version of xarray decode_timedelta will default to False rather than None. To silence this warning, set decode_timedelta to True, False, or a 'CFTimedeltaCoder' instance.\n",
            "  data = xr.open_dataset(full_path)\n",
            "<ipython-input-205-f3db4d95da15>:3: FutureWarning: In a future version of xarray decode_timedelta will default to False rather than None. To silence this warning, set decode_timedelta to True, False, or a 'CFTimedeltaCoder' instance.\n",
            "  data = xr.open_dataset(full_path)\n",
            "<ipython-input-205-f3db4d95da15>:3: FutureWarning: In a future version of xarray decode_timedelta will default to False rather than None. To silence this warning, set decode_timedelta to True, False, or a 'CFTimedeltaCoder' instance.\n",
            "  data = xr.open_dataset(full_path)\n",
            "<ipython-input-205-f3db4d95da15>:3: FutureWarning: In a future version of xarray decode_timedelta will default to False rather than None. To silence this warning, set decode_timedelta to True, False, or a 'CFTimedeltaCoder' instance.\n",
            "  data = xr.open_dataset(full_path)\n",
            "<ipython-input-205-f3db4d95da15>:3: FutureWarning: In a future version of xarray decode_timedelta will default to False rather than None. To silence this warning, set decode_timedelta to True, False, or a 'CFTimedeltaCoder' instance.\n",
            "  data = xr.open_dataset(full_path)\n",
            "<ipython-input-205-f3db4d95da15>:3: FutureWarning: In a future version of xarray decode_timedelta will default to False rather than None. To silence this warning, set decode_timedelta to True, False, or a 'CFTimedeltaCoder' instance.\n",
            "  data = xr.open_dataset(full_path)\n",
            "<ipython-input-205-f3db4d95da15>:3: FutureWarning: In a future version of xarray decode_timedelta will default to False rather than None. To silence this warning, set decode_timedelta to True, False, or a 'CFTimedeltaCoder' instance.\n",
            "  data = xr.open_dataset(full_path)\n",
            "<ipython-input-205-f3db4d95da15>:3: FutureWarning: In a future version of xarray decode_timedelta will default to False rather than None. To silence this warning, set decode_timedelta to True, False, or a 'CFTimedeltaCoder' instance.\n",
            "  data = xr.open_dataset(full_path)\n"
          ]
        }
      ]
    },
    {
      "cell_type": "code",
      "source": [
        "rcp_85_rsus_df.shape"
      ],
      "metadata": {
        "colab": {
          "base_uri": "https://localhost:8080/"
        },
        "id": "a2q_hOgV4qzw",
        "outputId": "6dea4ac2-611f-483d-c011-9b67ec608b41"
      },
      "execution_count": 214,
      "outputs": [
        {
          "output_type": "execute_result",
          "data": {
            "text/plain": [
              "(5760, 4)"
            ]
          },
          "metadata": {},
          "execution_count": 214
        }
      ]
    },
    {
      "cell_type": "code",
      "source": [
        "rcp26_df['time'] = pd.to_datetime(rcp26_df['time'].astype(str)).dt.date\n",
        "rcp45_df['time'] = pd.to_datetime(rcp45_df['time'].astype(str)).dt.date\n",
        "rcp60_df['time'] = pd.to_datetime(rcp60_df['time'].astype(str)).dt.date\n",
        "rcp85_df['time'] = pd.to_datetime(rcp85_df['time'].astype(str)).dt.date\n",
        "\n",
        "rcp_26_rsus_df['time'] = pd.to_datetime(rcp_26_rsus_df['time'].astype(str)).dt.date\n",
        "rcp_45_rsus_df['time'] = pd.to_datetime(rcp_45_rsus_df['time'].astype(str)).dt.date\n",
        "rcp_60_rsus_df['time'] = pd.to_datetime(rcp_60_rsus_df['time'].astype(str)).dt.date\n",
        "rcp_85_rsus_df['time'] = pd.to_datetime(rcp_85_rsus_df['time'].astype(str)).dt.date"
      ],
      "metadata": {
        "id": "urrHPMtT6mPm"
      },
      "execution_count": 215,
      "outputs": []
    },
    {
      "cell_type": "code",
      "source": [
        "rcp26_df = rcp26_df.merge(rcp_26_rsus_df, on=['time', 'band'], how='outer')\n",
        "rcp45_df = rcp45_df.merge(rcp_45_rsus_df, on=['time', 'band'], how='outer')\n",
        "rcp60_df = rcp60_df.merge(rcp_60_rsus_df, on=['time', 'band'], how='outer')\n",
        "rcp85_df = rcp85_df.merge(rcp_85_rsus_df, on=['time', 'band'], how='outer')"
      ],
      "metadata": {
        "id": "saxEaRjL4am_"
      },
      "execution_count": 216,
      "outputs": []
    },
    {
      "cell_type": "code",
      "source": [
        "print(rcp26_df.isna().sum(), rcp45_df.isna().sum(), rcp60_df.isna().sum(), rcp85_df.isna().sum())"
      ],
      "metadata": {
        "colab": {
          "base_uri": "https://localhost:8080/"
        },
        "id": "nIwRUH0v5PZZ",
        "outputId": "fdd528b2-07b2-4099-9147-02526cd0281a"
      },
      "execution_count": 217,
      "outputs": [
        {
          "output_type": "stream",
          "name": "stdout",
          "text": [
            "Unnamed: 0                                    0\n",
            "time                                          0\n",
            "snow_depth                                 2727\n",
            "band                                          0\n",
            "skin_temperature                              0\n",
            "temperature_2m                                0\n",
            "snowfall_sum                                  0\n",
            "surface_thermal_radiation_downwards_sum       0\n",
            "avg_volumetric_water_content                  0\n",
            "average_lake_temperature                      0\n",
            "total_precipitation_sum                       0\n",
            "surface_latent_heat_flux_sum                  0\n",
            "surface_sensible_heat_flux_sum                0\n",
            "surface_snow_amount                        1134\n",
            "surface_solar_radiation_downwards_sum         0\n",
            "snow_density                               2737\n",
            "snow_cover                                 2737\n",
            "index                                         0\n",
            "rsus                                          0\n",
            "dtype: int64 Unnamed: 0                                    0\n",
            "time                                          0\n",
            "surface_solar_radiation_downwards_sum         0\n",
            "band                                          0\n",
            "surface_thermal_radiation_downwards_sum       0\n",
            "total_precipitation_sum                       0\n",
            "surface_sensible_heat_flux_sum                0\n",
            "snowfall_sum                                  0\n",
            "surface_snow_amount                        1259\n",
            "skin_temperature                              0\n",
            "temperature_2m                                0\n",
            "surface_latent_heat_flux_sum                  0\n",
            "snow_depth                                 2899\n",
            "average_lake_temperature                      0\n",
            "avg_volumetric_water_content                  0\n",
            "snow_density                               2909\n",
            "snow_cover                                 2909\n",
            "index                                         0\n",
            "rsus                                          0\n",
            "dtype: int64 Unnamed: 0                                    0\n",
            "time                                          0\n",
            "surface_latent_heat_flux_sum                  0\n",
            "band                                          0\n",
            "surface_solar_radiation_downwards_sum         0\n",
            "avg_volumetric_water_content                  0\n",
            "average_lake_temperature                      0\n",
            "temperature_2m                                0\n",
            "snow_depth                                 2888\n",
            "surface_thermal_radiation_downwards_sum       0\n",
            "total_precipitation_sum                       0\n",
            "skin_temperature                              0\n",
            "snowfall_sum                                  0\n",
            "surface_snow_amount                        1217\n",
            "surface_sensible_heat_flux_sum                0\n",
            "snow_density                               2899\n",
            "snow_cover                                 2899\n",
            "index                                         0\n",
            "rsus                                          0\n",
            "dtype: int64 Unnamed: 0                                    0\n",
            "time                                          0\n",
            "surface_sensible_heat_flux_sum                0\n",
            "band                                          0\n",
            "snowfall_sum                                  0\n",
            "surface_thermal_radiation_downwards_sum       0\n",
            "surface_solar_radiation_downwards_sum         0\n",
            "total_precipitation_sum                       0\n",
            "surface_latent_heat_flux_sum                  0\n",
            "snow_depth                                 3199\n",
            "skin_temperature                              0\n",
            "surface_snow_amount                        1362\n",
            "avg_volumetric_water_content                  0\n",
            "average_lake_temperature                      0\n",
            "temperature_2m                                0\n",
            "snow_density                               3218\n",
            "snow_cover                                 3218\n",
            "index                                         0\n",
            "rsus                                          0\n",
            "dtype: int64\n"
          ]
        }
      ]
    },
    {
      "cell_type": "code",
      "source": [
        "# rename dfs\n",
        "dfs = [rcp26_df, rcp45_df, rcp60_df, rcp85_df]"
      ],
      "metadata": {
        "id": "FYMZhErV869T"
      },
      "execution_count": 218,
      "outputs": []
    },
    {
      "cell_type": "code",
      "source": [
        "for df in dfs:\n",
        "    snow_covered_df = df.loc[df['snow_cover'] == 1].copy()\n",
        "    snow_covered_df.loc[:, 'snow_albedo'] = snow_covered_df['rsus'] / snow_covered_df['surface_solar_radiation_downwards_sum']\n",
        "    snow_covered_df.replace([np.inf, -np.inf], np.nan, inplace=True)\n",
        "    snow_covered_df.fillna(0, inplace=True)\n",
        "    df.loc[df['snow_cover'] == 1, 'snow_albedo'] = snow_covered_df['snow_albedo']"
      ],
      "metadata": {
        "id": "JeU-6-5nu_xi"
      },
      "execution_count": 225,
      "outputs": []
    },
    {
      "cell_type": "code",
      "source": [
        "dfs = [rcp26_df, rcp45_df, rcp60_df, rcp85_df]\n",
        "\n",
        "for df in dfs:\n",
        "  df = df.fillna(0)"
      ],
      "metadata": {
        "id": "zeioTjXtRYn0"
      },
      "execution_count": 226,
      "outputs": []
    },
    {
      "cell_type": "code",
      "source": [
        "rcp26_df.shape"
      ],
      "metadata": {
        "colab": {
          "base_uri": "https://localhost:8080/"
        },
        "id": "uDUxVG2cRsX_",
        "outputId": "f26fb116-db31-4025-c912-eccc048b3e9c"
      },
      "execution_count": 227,
      "outputs": [
        {
          "output_type": "execute_result",
          "data": {
            "text/plain": [
              "(5760, 20)"
            ]
          },
          "metadata": {},
          "execution_count": 227
        }
      ]
    },
    {
      "cell_type": "markdown",
      "source": [
        "# **Impute Missing Data**"
      ],
      "metadata": {
        "id": "43oOZv7LSUG9"
      }
    },
    {
      "cell_type": "code",
      "source": [
        "from sklearn.experimental import enable_iterative_imputer\n",
        "from sklearn.impute import IterativeImputer"
      ],
      "metadata": {
        "id": "V-rDssrZSWYq"
      },
      "execution_count": 229,
      "outputs": []
    },
    {
      "cell_type": "code",
      "source": [
        "imputer = IterativeImputer(max_iter=10, random_state=0)"
      ],
      "metadata": {
        "id": "6KuO5rNHSgKd"
      },
      "execution_count": 230,
      "outputs": []
    },
    {
      "cell_type": "code",
      "source": [
        "dfs = [rcp26_df, rcp45_df, rcp60_df, rcp85_df]"
      ],
      "metadata": {
        "id": "VRyNgLzuSo7S"
      },
      "execution_count": 231,
      "outputs": []
    },
    {
      "cell_type": "code",
      "source": [
        "for df in dfs:\n",
        "  missing_cols = df.columns[df.isna().any()]\n",
        "  df[missing_cols] = imputer.fit_transform(df[missing_cols])\n",
        "  print(df.isna().sum())"
      ],
      "metadata": {
        "colab": {
          "base_uri": "https://localhost:8080/"
        },
        "id": "DEcbdBm-T5ln",
        "outputId": "d4b29e9e-0925-48dd-dd31-ad31e7976f15"
      },
      "execution_count": 232,
      "outputs": [
        {
          "output_type": "stream",
          "name": "stdout",
          "text": [
            "Unnamed: 0                                 0\n",
            "time                                       0\n",
            "snow_depth                                 0\n",
            "band                                       0\n",
            "skin_temperature                           0\n",
            "temperature_2m                             0\n",
            "snowfall_sum                               0\n",
            "surface_thermal_radiation_downwards_sum    0\n",
            "avg_volumetric_water_content               0\n",
            "average_lake_temperature                   0\n",
            "total_precipitation_sum                    0\n",
            "surface_latent_heat_flux_sum               0\n",
            "surface_sensible_heat_flux_sum             0\n",
            "surface_snow_amount                        0\n",
            "surface_solar_radiation_downwards_sum      0\n",
            "snow_density                               0\n",
            "snow_cover                                 0\n",
            "index                                      0\n",
            "rsus                                       0\n",
            "snow_albedo                                0\n",
            "dtype: int64\n",
            "Unnamed: 0                                 0\n",
            "time                                       0\n",
            "surface_solar_radiation_downwards_sum      0\n",
            "band                                       0\n",
            "surface_thermal_radiation_downwards_sum    0\n",
            "total_precipitation_sum                    0\n",
            "surface_sensible_heat_flux_sum             0\n",
            "snowfall_sum                               0\n",
            "surface_snow_amount                        0\n",
            "skin_temperature                           0\n",
            "temperature_2m                             0\n",
            "surface_latent_heat_flux_sum               0\n",
            "snow_depth                                 0\n",
            "average_lake_temperature                   0\n",
            "avg_volumetric_water_content               0\n",
            "snow_density                               0\n",
            "snow_cover                                 0\n",
            "index                                      0\n",
            "rsus                                       0\n",
            "snow_albedo                                0\n",
            "dtype: int64\n",
            "Unnamed: 0                                 0\n",
            "time                                       0\n",
            "surface_latent_heat_flux_sum               0\n",
            "band                                       0\n",
            "surface_solar_radiation_downwards_sum      0\n",
            "avg_volumetric_water_content               0\n",
            "average_lake_temperature                   0\n",
            "temperature_2m                             0\n",
            "snow_depth                                 0\n",
            "surface_thermal_radiation_downwards_sum    0\n",
            "total_precipitation_sum                    0\n",
            "skin_temperature                           0\n",
            "snowfall_sum                               0\n",
            "surface_snow_amount                        0\n",
            "surface_sensible_heat_flux_sum             0\n",
            "snow_density                               0\n",
            "snow_cover                                 0\n",
            "index                                      0\n",
            "rsus                                       0\n",
            "snow_albedo                                0\n",
            "dtype: int64\n",
            "Unnamed: 0                                 0\n",
            "time                                       0\n",
            "surface_sensible_heat_flux_sum             0\n",
            "band                                       0\n",
            "snowfall_sum                               0\n",
            "surface_thermal_radiation_downwards_sum    0\n",
            "surface_solar_radiation_downwards_sum      0\n",
            "total_precipitation_sum                    0\n",
            "surface_latent_heat_flux_sum               0\n",
            "snow_depth                                 0\n",
            "skin_temperature                           0\n",
            "surface_snow_amount                        0\n",
            "avg_volumetric_water_content               0\n",
            "average_lake_temperature                   0\n",
            "temperature_2m                             0\n",
            "snow_density                               0\n",
            "snow_cover                                 0\n",
            "index                                      0\n",
            "rsus                                       0\n",
            "snow_albedo                                0\n",
            "dtype: int64\n"
          ]
        }
      ]
    },
    {
      "cell_type": "markdown",
      "source": [
        "# **Restructure Dataframes**"
      ],
      "metadata": {
        "id": "u_53LCJ9UNRq"
      }
    },
    {
      "cell_type": "code",
      "source": [
        "dfs = [rcp26_df, rcp45_df, rcp60_df, rcp85_df]"
      ],
      "metadata": {
        "id": "G_ZS0Z0OULwe"
      },
      "execution_count": 233,
      "outputs": []
    },
    {
      "cell_type": "code",
      "source": [
        "new_order = ['date', 'band', 'snow_albedo', 'snow_cover', 'snow_density',\n",
        "             'snow_depth', 'snow_depth_water_equivalent',\n",
        "             'snowfall_sum', 'surface_latent_heat_flux_sum',\n",
        "             'surface_sensible_heat_flux_sum', 'surface_solar_radiation_downwards_sum',\n",
        "             'surface_thermal_radiation_downwards_sum', 'skin_temperature',\n",
        "             'temperature_2m', 'total_precipitation_sum', 'avg_volumetric_water_content']"
      ],
      "metadata": {
        "id": "30sqcyYZVdwN"
      },
      "execution_count": 234,
      "outputs": []
    },
    {
      "cell_type": "code",
      "source": [
        "bands = {\n",
        "    'band_1' : np.mean([61.2755545, 59.2632802]),\n",
        "    'band_2' : np.mean([63.2878288, 61.2755545]),\n",
        "    'band_3' : np.mean([65.3001031, 63.2878288]),\n",
        "    'band_4' : np.mean([65.3001031, 67.3123774]),\n",
        "    'band_5' : np.mean([67.3123774, 69.3246517]),\n",
        "    'band_6' : np.mean([69.3246517, 71.336926])\n",
        "}"
      ],
      "metadata": {
        "id": "r5B516h0X43R"
      },
      "execution_count": 235,
      "outputs": []
    },
    {
      "cell_type": "code",
      "source": [
        "for i, df in enumerate(dfs):\n",
        "    dfs[i] = df.copy()\n",
        "    dfs[i].rename(columns={'time': 'date', 'surface_snow_amount': 'snow_depth_water_equivalent'}, inplace=True)\n",
        "    dfs[i] = dfs[i][new_order]\n",
        "    for key, value in bands.items():\n",
        "        dfs[i].loc[dfs[i]['band'] == key, 'average_latitude'] = value"
      ],
      "metadata": {
        "id": "nwUtVESNUZAO"
      },
      "execution_count": 237,
      "outputs": []
    },
    {
      "cell_type": "markdown",
      "source": [
        "# **Z-Score Normalization**"
      ],
      "metadata": {
        "id": "36gM6JZNhK5l"
      }
    },
    {
      "cell_type": "code",
      "source": [
        "dfs = [rcp26_df, rcp45_df, rcp60_df, rcp85_df]"
      ],
      "metadata": {
        "id": "qPuScg14hWLK"
      },
      "execution_count": 239,
      "outputs": []
    },
    {
      "cell_type": "code",
      "source": [
        "scaler = StandardScaler()"
      ],
      "metadata": {
        "id": "CkcBO-IVhW24"
      },
      "execution_count": 240,
      "outputs": []
    },
    {
      "cell_type": "code",
      "source": [
        "normalized_dfs = []"
      ],
      "metadata": {
        "id": "YK5_UyYciMCD"
      },
      "execution_count": 241,
      "outputs": []
    },
    {
      "cell_type": "code",
      "source": [
        "for df in dfs:\n",
        "  numeric_cols = df.select_dtypes(include=['number']).columns\n",
        "  numeric_df = df[numeric_cols]\n",
        "  rest = df[['date', 'band']]\n",
        "  scaled = scaler.fit_transform(numeric_df)\n",
        "  scaled_df = pd.DataFrame(scaled, columns=numeric_cols)\n",
        "  df = pd.concat([rest, scaled_df], axis=1)\n",
        "  normalized_dfs.append(df)"
      ],
      "metadata": {
        "id": "on1Gq7eigT0C"
      },
      "execution_count": 242,
      "outputs": []
    },
    {
      "cell_type": "code",
      "source": [
        "rcp26_df = normalized_dfs[0]\n",
        "rcp45_df = normalized_dfs[1]\n",
        "rcp60_df = normalized_dfs[2]\n",
        "rcp85_df = normalized_dfs[3]"
      ],
      "metadata": {
        "id": "G0vkPHZMih81"
      },
      "execution_count": 243,
      "outputs": []
    },
    {
      "cell_type": "code",
      "source": [
        "clean_dfs_path = os.path.join(rcp_path, 'clean_dfs')\n",
        "\n",
        "rcp26_df.to_csv(os.path.join(clean_dfs_path, 'rcp26_df_processed.csv'))\n",
        "rcp45_df.to_csv(os.path.join(clean_dfs_path, 'rcp45_df_processed.csv'))\n",
        "rcp60_df.to_csv(os.path.join(clean_dfs_path, 'rcp60_df_processed.csv'))\n",
        "rcp85_df.to_csv(os.path.join(clean_dfs_path, 'rcp85_df_processed.csv'))"
      ],
      "metadata": {
        "id": "-tRK8syPgb80"
      },
      "execution_count": 244,
      "outputs": []
    }
  ]
}